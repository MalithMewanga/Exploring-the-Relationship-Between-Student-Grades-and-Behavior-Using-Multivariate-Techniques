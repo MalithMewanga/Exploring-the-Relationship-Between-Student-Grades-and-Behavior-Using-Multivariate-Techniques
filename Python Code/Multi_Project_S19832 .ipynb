{
  "nbformat": 4,
  "nbformat_minor": 0,
  "metadata": {
    "colab": {
      "provenance": []
    },
    "kernelspec": {
      "name": "python3",
      "display_name": "Python 3"
    },
    "language_info": {
      "name": "python"
    }
  },
  "cells": [
    {
      "cell_type": "code",
      "execution_count": 129,
      "metadata": {
        "colab": {
          "base_uri": "https://localhost:8080/"
        },
        "id": "Toz5mKUMh6Tl",
        "outputId": "7e2681a4-1dfb-4bc2-8efe-7f688a3f19d0"
      },
      "outputs": [
        {
          "output_type": "stream",
          "name": "stdout",
          "text": [
            "Drive already mounted at /content/drive; to attempt to forcibly remount, call drive.mount(\"/content/drive\", force_remount=True).\n"
          ]
        }
      ],
      "source": [
        "# connect google drive into colab\n",
        "from google.colab import drive\n",
        "drive.mount('/content/drive')"
      ]
    },
    {
      "cell_type": "code",
      "source": [
        "import pandas as pd\n",
        "\n",
        "# Replace 'your_file.csv' with the path to your dataset in Google Drive\n",
        "file_path = '/content/drive/My Drive/Multi Project/student_dataset.csv'\n",
        "\n",
        "# Load the dataset\n",
        "df = pd.read_csv(file_path)\n",
        "\n",
        "# Drop rows with any missing (null) values\n",
        "df_clean = df.dropna()\n",
        "\n",
        "# Optionally, save the cleaned dataset back to Drive\n",
        "df_clean.to_csv('/content/drive/My Drive/your_file_cleaned.csv', index=False)\n",
        "\n",
        "# Display the cleaned DataFrame\n",
        "print(df_clean)"
      ],
      "metadata": {
        "colab": {
          "base_uri": "https://localhost:8080/"
        },
        "id": "f3JKX3oNiQI-",
        "outputId": "c345adb7-266b-4a1c-f289-8c4870b52e70"
      },
      "execution_count": 155,
      "outputs": [
        {
          "output_type": "stream",
          "name": "stdout",
          "text": [
            "      Student_ID First_Name Last_Name                           Email  Gender  \\\n",
            "0         S00001   Danielle      Levy        danielle1@university.edu  Female   \n",
            "1         S00002      Angel    Ortega     angel.ortega@university.edu    Male   \n",
            "2         S00003     Joshua     Lopez          joshua4@university.edu  Female   \n",
            "3         S00004    Jeffrey    Powers          jpowers@university.edu  Female   \n",
            "4         S00005       Jill  Robinson        jrobinson@university.edu  Female   \n",
            "...          ...        ...       ...                             ...     ...   \n",
            "49995     S49996      David    Lawson           david9@university.edu    Male   \n",
            "49996     S49997     Jeremy     Davis          jeremy7@university.edu    Male   \n",
            "49997     S49998    Timothy     Perry           s49998@university.edu  Female   \n",
            "49998     S49999     Philip  Martinez  philip_martinez@university.edu    Male   \n",
            "49999     S50000      Joyce   Aguilar           s50000@university.edu  Female   \n",
            "\n",
            "       Age            Department  Attendance (%)  Midterm_Score  \\\n",
            "0       18      Computer Science            83.9           68.9   \n",
            "1       18  Software Engineering            75.2           96.2   \n",
            "2       21          Data Science           100.0           63.2   \n",
            "3       30  Software Engineering            82.1           65.1   \n",
            "4       20  Software Engineering            95.0           95.0   \n",
            "...    ...                   ...             ...            ...   \n",
            "49995   20      Computer Science            74.8           65.9   \n",
            "49996   21      Computer Science            78.2           78.3   \n",
            "49997   29          Data Science            73.6           85.9   \n",
            "49998   29  Software Engineering            84.4           84.0   \n",
            "49999   18          Data Science            76.1           50.2   \n",
            "\n",
            "       Assignments_Avg  ...  Participation_Score  Projects_Score  Total_Marks  \\\n",
            "0            57.800000  ...                  4.8       79.500000        67.71   \n",
            "1            86.500000  ...                 10.0       99.000000        93.30   \n",
            "2            62.991805  ...                  7.6       51.422311        62.56   \n",
            "3            66.300000  ...                  6.0       66.900000        66.76   \n",
            "4            86.200000  ...                  7.5       79.900000        83.70   \n",
            "...                ...  ...                  ...             ...          ...   \n",
            "49995        57.300000  ...                  7.0       54.200000        56.40   \n",
            "49996        79.800000  ...                  8.7       74.800000        77.31   \n",
            "49997        75.300740  ...                 10.0       59.882653        73.72   \n",
            "49998        94.800000  ...                  9.6       83.400000        89.58   \n",
            "49999        53.500000  ...                  9.4       80.000000        65.16   \n",
            "\n",
            "       Grade Study_Hours_per_Week  Extracurricular_Activities  \\\n",
            "0          D                 13.5                         Yes   \n",
            "1          A                 21.7                          No   \n",
            "2          D                 12.0                         Yes   \n",
            "3          D                 10.1                          No   \n",
            "4          B                 18.1                         Yes   \n",
            "...      ...                  ...                         ...   \n",
            "49995      F                 13.3                         Yes   \n",
            "49996      C                 10.7                         Yes   \n",
            "49997      C                 10.6                         Yes   \n",
            "49998      B                 12.4                          No   \n",
            "49999      D                  2.0                          No   \n",
            "\n",
            "      Internet_Access_at_Home Parent_Education_Level  Stress_Level (1-10)  \\\n",
            "0                         Yes                      3                    6   \n",
            "1                         Yes                      2                   10   \n",
            "2                          No                      3                    6   \n",
            "3                         Yes                      2                    4   \n",
            "4                         Yes                      3                    8   \n",
            "...                       ...                    ...                  ...   \n",
            "49995                     Yes                      4                   10   \n",
            "49996                     Yes                      3                    8   \n",
            "49997                      No                      2                    7   \n",
            "49998                     Yes                      3                    6   \n",
            "49999                     Yes                      2                    2   \n",
            "\n",
            "       Sleep_Hours_per_Night  \n",
            "0                        8.2  \n",
            "1                        7.1  \n",
            "2                        8.5  \n",
            "3                        7.7  \n",
            "4                        7.1  \n",
            "...                      ...  \n",
            "49995                    5.8  \n",
            "49996                    5.2  \n",
            "49997                    7.7  \n",
            "49998                    7.3  \n",
            "49999                    6.9  \n",
            "\n",
            "[50000 rows x 21 columns]\n"
          ]
        }
      ]
    },
    {
      "cell_type": "code",
      "source": [
        "# Drop student-Id\n",
        "\n",
        "df_clean.drop(columns=['Student_ID'], inplace=True)"
      ],
      "metadata": {
        "id": "Ub-gpPzmiQFa"
      },
      "execution_count": 131,
      "outputs": []
    },
    {
      "cell_type": "code",
      "source": [
        "# Drop Duplicate\n",
        "\n",
        "df_clean.drop_duplicates(inplace=True)"
      ],
      "metadata": {
        "id": "THj73KfXiQBt"
      },
      "execution_count": 132,
      "outputs": []
    },
    {
      "cell_type": "code",
      "source": [
        "#Remove Outliers\n",
        "def remove_outliers_iqr(df_clean):\n",
        "    numeric_cols = df_clean.select_dtypes(include=[np.number]).columns\n",
        "    Q1 = df_clean[numeric_cols].quantile(0.25)\n",
        "    Q3 = df_clean[numeric_cols].quantile(0.75)\n",
        "    IQR = Q3 - Q1\n",
        "    filtered_entries = ~((df_clean[numeric_cols] < (Q1 - 1.5 * IQR)) | (df_clean[numeric_cols] > (Q3 + 1.5 * IQR))).any(axis=1)\n",
        "    return df_clean[filtered_entries]\n"
      ],
      "metadata": {
        "id": "j-jclvTMiP-y"
      },
      "execution_count": 133,
      "outputs": []
    },
    {
      "cell_type": "code",
      "source": [
        "#Encode Categorical Variables\n",
        "\n",
        "# Example for one-hot encoding\n",
        "categorical_cols = df_clean.select_dtypes(include=['object', 'category']).columns\n",
        "df1 = pd.get_dummies(df_clean, columns=categorical_cols, drop_first=True)"
      ],
      "metadata": {
        "id": "-uPGhvLYiP8-"
      },
      "execution_count": 134,
      "outputs": []
    },
    {
      "cell_type": "code",
      "source": [
        "#Only Standardize Numeric Columns\n",
        "from sklearn.preprocessing import StandardScaler\n",
        "# Select only numeric columns for scaling\n",
        "numeric_cols = df1.select_dtypes(include=['float64', 'int64']).columns\n",
        "\n",
        "# Standardize only numeric columns\n",
        "scaler = StandardScaler()\n",
        "df1[numeric_cols] = scaler.fit_transform(df1[numeric_cols])"
      ],
      "metadata": {
        "id": "c5VLEQKsiP65"
      },
      "execution_count": 135,
      "outputs": []
    },
    {
      "cell_type": "code",
      "source": [
        "\n",
        "#This is important packages\n",
        "\n",
        "import pandas as pd\n",
        "import numpy as np\n",
        "from sklearn.decomposition import PCA\n",
        "import matplotlib.pyplot as plt\n",
        "from sklearn.model_selection import train_test_split\n",
        "from sklearn.discriminant_analysis import LinearDiscriminantAnalysis\n",
        "from sklearn.preprocessing import LabelEncoder\n",
        "from sklearn.metrics import classification_report, accuracy_score\n",
        "!pip install factor_analyzer\n",
        "from factor_analyzer import FactorAnalyzer\n"
      ],
      "metadata": {
        "colab": {
          "base_uri": "https://localhost:8080/"
        },
        "id": "iT3O0z_7iP5E",
        "outputId": "21eeb48d-1222-4bb3-df3a-157cf7da016f"
      },
      "execution_count": 153,
      "outputs": [
        {
          "output_type": "stream",
          "name": "stdout",
          "text": [
            "Collecting factor_analyzer\n",
            "  Downloading factor_analyzer-0.5.1.tar.gz (42 kB)\n",
            "\u001b[?25l     \u001b[90m━━━━━━━━━━━━━━━━━━━━━━━━━━━━━━━━━━━━━━━━\u001b[0m \u001b[32m0.0/42.8 kB\u001b[0m \u001b[31m?\u001b[0m eta \u001b[36m-:--:--\u001b[0m\r\u001b[2K     \u001b[90m━━━━━━━━━━━━━━━━━━━━━━━━━━━━━━━━━━━━━━━━\u001b[0m \u001b[32m42.8/42.8 kB\u001b[0m \u001b[31m1.6 MB/s\u001b[0m eta \u001b[36m0:00:00\u001b[0m\n",
            "\u001b[?25h  Installing build dependencies ... \u001b[?25l\u001b[?25hdone\n",
            "  Getting requirements to build wheel ... \u001b[?25l\u001b[?25hdone\n",
            "  Preparing metadata (pyproject.toml) ... \u001b[?25l\u001b[?25hdone\n",
            "Requirement already satisfied: pandas in /usr/local/lib/python3.11/dist-packages (from factor_analyzer) (2.2.2)\n",
            "Requirement already satisfied: scipy in /usr/local/lib/python3.11/dist-packages (from factor_analyzer) (1.15.3)\n",
            "Requirement already satisfied: numpy in /usr/local/lib/python3.11/dist-packages (from factor_analyzer) (2.0.2)\n",
            "Requirement already satisfied: scikit-learn in /usr/local/lib/python3.11/dist-packages (from factor_analyzer) (1.6.1)\n",
            "Requirement already satisfied: python-dateutil>=2.8.2 in /usr/local/lib/python3.11/dist-packages (from pandas->factor_analyzer) (2.9.0.post0)\n",
            "Requirement already satisfied: pytz>=2020.1 in /usr/local/lib/python3.11/dist-packages (from pandas->factor_analyzer) (2025.2)\n",
            "Requirement already satisfied: tzdata>=2022.7 in /usr/local/lib/python3.11/dist-packages (from pandas->factor_analyzer) (2025.2)\n",
            "Requirement already satisfied: joblib>=1.2.0 in /usr/local/lib/python3.11/dist-packages (from scikit-learn->factor_analyzer) (1.5.1)\n",
            "Requirement already satisfied: threadpoolctl>=3.1.0 in /usr/local/lib/python3.11/dist-packages (from scikit-learn->factor_analyzer) (3.6.0)\n",
            "Requirement already satisfied: six>=1.5 in /usr/local/lib/python3.11/dist-packages (from python-dateutil>=2.8.2->pandas->factor_analyzer) (1.17.0)\n",
            "Building wheels for collected packages: factor_analyzer\n",
            "  Building wheel for factor_analyzer (pyproject.toml) ... \u001b[?25l\u001b[?25hdone\n",
            "  Created wheel for factor_analyzer: filename=factor_analyzer-0.5.1-py2.py3-none-any.whl size=42655 sha256=728c421514e1875f05c4e22ce228876102c4dec91eb4ba496751c3996f6fb502\n",
            "  Stored in directory: /root/.cache/pip/wheels/fa/f7/53/a55a8a56668a6fe0199e0e02b6e0ae3007ec35cdf6e4c25df7\n",
            "Successfully built factor_analyzer\n",
            "Installing collected packages: factor_analyzer\n",
            "Successfully installed factor_analyzer-0.5.1\n"
          ]
        }
      ]
    },
    {
      "cell_type": "code",
      "source": [
        "# Doing PCA"
      ],
      "metadata": {
        "id": "LEKXmP6ipqR0"
      },
      "execution_count": 163,
      "outputs": []
    },
    {
      "cell_type": "code",
      "source": [
        "# Select only numeric columns (should be all at this stage)\n",
        "X = df1.select_dtypes(include=['float64', 'int64'])"
      ],
      "metadata": {
        "id": "cu8gX1cSiP2_"
      },
      "execution_count": 162,
      "outputs": []
    },
    {
      "cell_type": "code",
      "source": [
        "# Fit PCA to all components\n",
        "pca = PCA()\n",
        "X_pca = pca.fit_transform(X)"
      ],
      "metadata": {
        "id": "j_rbSvFeiP1H"
      },
      "execution_count": 138,
      "outputs": []
    },
    {
      "cell_type": "code",
      "source": [
        "plt.figure(figsize=(8,5))\n",
        "plt.plot(range(1, len(pca.explained_variance_ratio_)+1), pca.explained_variance_ratio_, marker='o')\n",
        "plt.xlabel('Principal Component')\n",
        "plt.ylabel('Explained Variance Ratio')\n",
        "plt.title('PCA Scree Plot')\n",
        "plt.grid(True)\n",
        "plt.show()"
      ],
      "metadata": {
        "colab": {
          "base_uri": "https://localhost:8080/",
          "height": 487
        },
        "id": "GggiNlYNiPzB",
        "outputId": "fe35b96e-2170-41cc-d26b-02c9b8304af3"
      },
      "execution_count": 139,
      "outputs": [
        {
          "output_type": "display_data",
          "data": {
            "text/plain": [
              "<Figure size 800x500 with 1 Axes>"
            ],
            "image/png": "[encoded data removed]"
          },
          "metadata": {}
        }
      ]
    },
    {
      "cell_type": "code",
      "source": [
        "# Create a DataFrame with PCA values\n",
        "pca_df = pd.DataFrame(X_pca, columns=[f'PC{i+1}' for i in range(X_pca.shape[1])])\n",
        "\n",
        "# Save to CSV if needed\n",
        "pca_df.to_csv('test_pca_values.csv', index=False)\n",
        "\n",
        "# Show first few rows\n",
        "print(pca_df.head())"
      ],
      "metadata": {
        "colab": {
          "base_uri": "https://localhost:8080/"
        },
        "id": "K0V-uCn-iPxL",
        "outputId": "0454d5a9-1dc2-4966-8da2-2a0083701f0a"
      },
      "execution_count": 140,
      "outputs": [
        {
          "output_type": "stream",
          "name": "stdout",
          "text": [
            "        PC1       PC2       PC3       PC4       PC5       PC6       PC7  \\\n",
            "0 -1.151741 -0.786973 -0.100319 -1.035154 -0.210054  0.826829  0.471806   \n",
            "1  3.099522  1.421058 -1.434349 -0.359198 -1.288357  1.537127  1.150175   \n",
            "2 -1.353077 -0.943739  1.255167 -0.433755  0.696513  0.866376  0.644085   \n",
            "3 -1.182937 -1.275760 -0.078315  2.503860  1.072916 -0.369052 -0.430132   \n",
            "4  1.631461  0.661094  0.524026 -0.612933  0.393096  1.509965  0.408564   \n",
            "\n",
            "        PC8       PC9      PC10      PC11          PC12  \n",
            "0 -0.959820 -0.227762 -0.303034 -0.899540 -8.928616e-08  \n",
            "1  0.353889 -0.612150 -0.112428 -0.528316 -3.019971e-04  \n",
            "2  0.821798  0.886610  0.580503  0.250256  2.952615e-04  \n",
            "3 -0.458733  0.364076 -0.021037 -0.048746 -3.029295e-04  \n",
            "4 -0.145292 -0.674233  0.532014  0.182326  3.040540e-04  \n"
          ]
        }
      ]
    },
    {
      "cell_type": "code",
      "source": [
        "pca = PCA(n_components=0.7)\n",
        "X_pca = pca.fit_transform(X)\n",
        "print(\"Number of components to retain 70% variance:\", pca.n_components_)"
      ],
      "metadata": {
        "colab": {
          "base_uri": "https://localhost:8080/"
        },
        "id": "kNrp-NHWiPvF",
        "outputId": "ee00c180-8942-4cf1-cc7a-883757c7a925"
      },
      "execution_count": 141,
      "outputs": [
        {
          "output_type": "stream",
          "name": "stdout",
          "text": [
            "Number of components to retain 70% variance: 5\n"
          ]
        }
      ]
    },
    {
      "cell_type": "code",
      "source": [
        "import numpy as np\n",
        "\n",
        "# After fitting PCA\n",
        "explained_var_ratios = pca.explained_variance_ratio_\n",
        "\n",
        "# Convert to percentage and round\n",
        "explained_var_percent = np.round(explained_var_ratios * 100, 2)\n",
        "\n",
        "# Print in the desired format (first 5 components as example)\n",
        "print(\"The first five principal components explain:\")\n",
        "for i, pct in enumerate(explained_var_percent[:5], 1):\n",
        "    print(f\"PC{i}: {pct}%\")\n",
        "\n",
        "print(f\"Total variance explained by first five PCs: {explained_var_percent[:5].sum()}%\")\n"
      ],
      "metadata": {
        "colab": {
          "base_uri": "https://localhost:8080/"
        },
        "id": "3TD1tn34iPs6",
        "outputId": "5c7307bd-dad7-492d-db38-f84828e3aa30"
      },
      "execution_count": 142,
      "outputs": [
        {
          "output_type": "stream",
          "name": "stdout",
          "text": [
            "The first five principal components explain:\n",
            "PC1: 39.39%\n",
            "PC2: 10.1%\n",
            "PC3: 8.45%\n",
            "PC4: 8.35%\n",
            "PC5: 8.31%\n",
            "Total variance explained by first five PCs: 74.6%\n"
          ]
        }
      ]
    },
    {
      "cell_type": "code",
      "source": [
        "import numpy as np\n",
        "import pandas as pd\n",
        "\n",
        "# Calculate PCA loadings (correlations between original variables and PCs)\n",
        "loadings = pca.components_.T * np.sqrt(pca.explained_variance_)\n",
        "\n",
        "# Create a DataFrame with loadings\n",
        "numeric_cols = df_clean.select_dtypes(include=['float64', 'int64']).columns\n",
        "loading_matrix = pd.DataFrame(\n",
        "    loadings,\n",
        "    columns=[f'PC{i+1}' for i in range(loadings.shape[1])],\n",
        "    index=numeric_cols\n",
        ")\n",
        "\n",
        "# Display loadings for first 5 PCs\n",
        "print(\"PCA Loadings Matrix (First 5 Components):\")\n",
        "print(loading_matrix.iloc[:, :5].round(3))\n",
        "\n",
        "# Find the most important variables for each PC\n",
        "print(\"\\nMost Important Variables for Each PC:\")\n",
        "for i in range(5):  # First 5 PCs\n",
        "    pc_name = f'PC{i+1}'\n",
        "    # Get absolute loadings and sort\n",
        "    abs_loadings = loading_matrix[pc_name].abs().sort_values(ascending=False)\n",
        "    top_3_vars = abs_loadings.head(3)\n",
        "\n",
        "    print(f\"\\n{pc_name}:\")\n",
        "    for var, loading in top_3_vars.items():\n",
        "        direction = \"positive\" if loading_matrix.loc[var, pc_name] > 0 else \"negative\"\n",
        "        print(f\"  - {var}: {loading_matrix.loc[var, pc_name]:.3f} ({direction})\")\n"
      ],
      "metadata": {
        "colab": {
          "base_uri": "https://localhost:8080/"
        },
        "id": "UEcNUts41vVe",
        "outputId": "63266b3c-64e6-44a4-af28-c812eac207fc"
      },
      "execution_count": 170,
      "outputs": [
        {
          "output_type": "stream",
          "name": "stdout",
          "text": [
            "PCA Loadings Matrix (First 5 Components):\n",
            "                          PC1    PC2    PC3    PC4    PC5\n",
            "Age                     0.002 -0.003 -0.055  0.832  0.550\n",
            "Attendance (%)          0.128  0.021  0.907 -0.107  0.272\n",
            "Midterm_Score           0.866 -0.009  0.024 -0.007  0.001\n",
            "Assignments_Avg         0.890 -0.005  0.023 -0.003  0.004\n",
            "Quizzes_Avg             0.823 -0.012  0.023 -0.010  0.007\n",
            "Participation_Score     0.753 -0.007 -0.132  0.012 -0.045\n",
            "Projects_Score          0.881 -0.014  0.028 -0.004  0.009\n",
            "Total_Marks             0.995 -0.011  0.008 -0.004 -0.000\n",
            "Study_Hours_per_Week    0.397  0.073 -0.283  0.057 -0.036\n",
            "Parent_Education_Level -0.008 -0.035 -0.297 -0.542  0.785\n",
            "Stress_Level (1-10)     0.022  0.778 -0.001  0.006  0.013\n",
            "Sleep_Hours_per_Night  -0.002 -0.774  0.010  0.029 -0.021\n",
            "\n",
            "Most Important Variables for Each PC:\n",
            "\n",
            "PC1:\n",
            "  - Total_Marks: 0.995 (positive)\n",
            "  - Assignments_Avg: 0.890 (positive)\n",
            "  - Projects_Score: 0.881 (positive)\n",
            "\n",
            "PC2:\n",
            "  - Stress_Level (1-10): 0.778 (positive)\n",
            "  - Sleep_Hours_per_Night: -0.774 (negative)\n",
            "  - Study_Hours_per_Week: 0.073 (positive)\n",
            "\n",
            "PC3:\n",
            "  - Attendance (%): 0.907 (positive)\n",
            "  - Parent_Education_Level: -0.297 (negative)\n",
            "  - Study_Hours_per_Week: -0.283 (negative)\n",
            "\n",
            "PC4:\n",
            "  - Age: 0.832 (positive)\n",
            "  - Parent_Education_Level: -0.542 (negative)\n",
            "  - Attendance (%): -0.107 (negative)\n",
            "\n",
            "PC5:\n",
            "  - Parent_Education_Level: 0.785 (positive)\n",
            "  - Age: 0.550 (positive)\n",
            "  - Attendance (%): 0.272 (positive)\n"
          ]
        }
      ]
    },
    {
      "cell_type": "code",
      "source": [
        "#Donig Discriminant Anlysis"
      ],
      "metadata": {
        "id": "dLVLlSnooyfa"
      },
      "execution_count": 161,
      "outputs": []
    },
    {
      "cell_type": "code",
      "source": [
        "drop_cols = ['Student_ID', 'First_Name', 'Last_Name', 'Email']\n",
        "df = df.drop(columns=drop_cols)"
      ],
      "metadata": {
        "id": "Zne8s1-PoCHO"
      },
      "execution_count": 143,
      "outputs": []
    },
    {
      "cell_type": "code",
      "source": [
        "# List all categorical columns (except the target 'Grade')\n",
        "categorical_cols = ['Gender', 'Department', 'Extracurricular_Activities',\n",
        "                    'Internet_Access_at_Home', 'Parent_Education_Level']"
      ],
      "metadata": {
        "id": "2sRB-ulboCD2"
      },
      "execution_count": 144,
      "outputs": []
    },
    {
      "cell_type": "code",
      "source": [
        "# One-hot encode all categorical columns except the target\n",
        "df = pd.get_dummies(df, columns=categorical_cols, drop_first=True)"
      ],
      "metadata": {
        "id": "I-jFdFzMoCBp"
      },
      "execution_count": 145,
      "outputs": []
    },
    {
      "cell_type": "code",
      "source": [
        "# Now separate features and target\n",
        "X = df.drop(columns=['Grade'])\n",
        "y = df['Grade']"
      ],
      "metadata": {
        "id": "nBh0JpOToB_U"
      },
      "execution_count": 146,
      "outputs": []
    },
    {
      "cell_type": "code",
      "source": [
        "# Encode the target variable (if not already numeric)\n",
        "le = LabelEncoder()\n",
        "y_encoded = le.fit_transform(y)"
      ],
      "metadata": {
        "id": "W0-pG14boB72"
      },
      "execution_count": 147,
      "outputs": []
    },
    {
      "cell_type": "code",
      "source": [
        "# Remove rows with missing target (if any)\n",
        "mask = pd.notna(y)\n",
        "X = X[mask]\n",
        "y_encoded = y_encoded[mask]"
      ],
      "metadata": {
        "id": "NmXQ_wyCoB5Q"
      },
      "execution_count": 148,
      "outputs": []
    },
    {
      "cell_type": "code",
      "source": [
        "# Split into train and test sets\n",
        "X_train, X_test, y_train, y_test = train_test_split(\n",
        "    X, y_encoded, test_size=0.3, random_state=42, stratify=y_encoded)"
      ],
      "metadata": {
        "id": "B8qgV_RYoB3d"
      },
      "execution_count": 149,
      "outputs": []
    },
    {
      "cell_type": "code",
      "source": [
        "#  Fit LDA\n",
        "lda = LinearDiscriminantAnalysis()\n",
        "lda.fit(X_train, y_train)\n",
        "y_pred = lda.predict(X_test)"
      ],
      "metadata": {
        "id": "9SKWrC2VoB0v"
      },
      "execution_count": 150,
      "outputs": []
    },
    {
      "cell_type": "code",
      "source": [
        "# Print results\n",
        "print(\"Discriminant Analysis Accuracy:\", accuracy_score(y_test, y_pred))\n",
        "print(\"\\nClassification Report:\\n\", classification_report(y_test, y_pred, target_names=le.classes_))"
      ],
      "metadata": {
        "colab": {
          "base_uri": "https://localhost:8080/"
        },
        "id": "fuvhu1RmoBy1",
        "outputId": "afa9b99f-53dc-4270-c01d-5738a6ae8589"
      },
      "execution_count": 151,
      "outputs": [
        {
          "output_type": "stream",
          "name": "stdout",
          "text": [
            "Discriminant Analysis Accuracy: 0.9552\n",
            "\n",
            "Classification Report:\n",
            "               precision    recall  f1-score   support\n",
            "\n",
            "           A       0.99      0.96      0.98      2306\n",
            "           B       0.96      0.97      0.96      3193\n",
            "           C       0.96      0.98      0.97      3766\n",
            "           D       0.89      0.97      0.93      3089\n",
            "           F       1.00      0.88      0.93      2646\n",
            "\n",
            "    accuracy                           0.96     15000\n",
            "   macro avg       0.96      0.95      0.95     15000\n",
            "weighted avg       0.96      0.96      0.96     15000\n",
            "\n"
          ]
        }
      ]
    },
    {
      "cell_type": "code",
      "source": [
        "#  (Optional) Show LDA coefficients\n",
        "import numpy as np\n",
        "import pandas as pd\n",
        "loadings = pd.DataFrame(\n",
        "    lda.coef_.T, index=X.columns,\n",
        "    columns=[f'LD{i+1}' for i in range(lda.coef_.shape[0])]\n",
        ")\n",
        "print(\"\\nLDA Loadings (Coefficients for each Linear Discriminant Function):\")\n",
        "print(loadings.round(3))\n"
      ],
      "metadata": {
        "colab": {
          "base_uri": "https://localhost:8080/"
        },
        "id": "ouCzlLCooBwX",
        "outputId": "656eabe6-147c-41c1-b232-2da7b64e4cd6"
      },
      "execution_count": 152,
      "outputs": [
        {
          "output_type": "stream",
          "name": "stdout",
          "text": [
            "\n",
            "LDA Loadings (Coefficients for each Linear Discriminant Function):\n",
            "                                    LD1    LD2    LD3    LD4     LD5\n",
            "Age                              -0.001 -0.003  0.001  0.003   0.000\n",
            "Attendance (%)                   -0.002 -0.001  0.001 -0.000   0.001\n",
            "Midterm_Score                     5.364  1.003 -0.176 -1.679  -3.673\n",
            "Assignments_Avg                   4.336  0.820 -0.141 -1.365  -2.973\n",
            "Quizzes_Avg                       3.221  0.604 -0.105 -1.009  -2.209\n",
            "Participation_Score              21.392  3.992 -0.678 -6.695 -14.678\n",
            "Projects_Score                    6.499  1.232 -0.214 -2.042  -4.463\n",
            "Total_Marks                     -20.038 -3.285  0.771  6.122  13.183\n",
            "Study_Hours_per_Week              0.011 -0.003 -0.004  0.001  -0.001\n",
            "Stress_Level (1-10)              -0.019 -0.014  0.001  0.009   0.021\n",
            "Sleep_Hours_per_Night            -0.020  0.001 -0.009  0.015   0.012\n",
            "Gender_Male                      -0.084 -0.056  0.024  0.016   0.088\n",
            "Department_Data Science           0.089 -0.024  0.038  0.001  -0.103\n",
            "Department_Software Engineering  -0.048 -0.029 -0.006  0.024   0.057\n",
            "Extracurricular_Activities_Yes   -0.071 -0.052  0.002  0.014   0.104\n",
            "Internet_Access_at_Home_Yes      -0.234 -0.102  0.040  0.107   0.145\n",
            "Parent_Education_Level_1          0.019 -0.110 -0.017 -0.005   0.145\n",
            "Parent_Education_Level_2          0.013 -0.050 -0.037 -0.015   0.119\n",
            "Parent_Education_Level_3         -0.160 -0.131  0.006  0.026   0.259\n",
            "Parent_Education_Level_4          0.047 -0.108  0.001  0.002   0.085\n"
          ]
        }
      ]
    },
    {
      "cell_type": "code",
      "source": [
        "#Doig Factor Anlysis"
      ],
      "metadata": {
        "id": "5njQrWijoBst"
      },
      "execution_count": 160,
      "outputs": []
    },
    {
      "cell_type": "code",
      "source": [
        "drop_cols = ['Student_ID', 'First_Name', 'Last_Name', 'Email', 'Gender', 'Department',\n",
        "             'Grade', 'Extracurricular_Activities', 'Internet_Access_at_Home', 'Parent_Education_Level']\n",
        "df_numeric = df.drop(columns=drop_cols)\n",
        "\n",
        "# Ensure only numeric columns\n",
        "df_numeric = df_numeric.select_dtypes(include=['float64', 'int64'])"
      ],
      "metadata": {
        "id": "kJcGwg5woBon"
      },
      "execution_count": 156,
      "outputs": []
    },
    {
      "cell_type": "code",
      "source": [
        "# Choose number of factors (e.g., 3)\n",
        "fa = FactorAnalyzer(n_factors=3, rotation='varimax')\n",
        "fa.fit(df_numeric)\n",
        "\n",
        "#to handle jupyter warings\n",
        "import warnings\n",
        "warnings.filterwarnings(\"ignore\", message=\".*force_all_finite.*\", category=FutureWarning)\n"
      ],
      "metadata": {
        "id": "VWvJMzBOoBk4"
      },
      "execution_count": 167,
      "outputs": []
    },
    {
      "cell_type": "code",
      "source": [
        "# Factor loadings\n",
        "loadings = pd.DataFrame(fa.loadings_,\n",
        "                        index=df_numeric.columns,\n",
        "                        columns=['Factor1', 'Factor2', 'Factor3'])\n",
        "print(\"Factor Loadings:\\n\", loadings.round(2))\n",
        "\n",
        "# Variance explained by each factor\n",
        "variance = fa.get_factor_variance()\n",
        "print(\"\\nVariance Explained (per factor):\\n\", variance)"
      ],
      "metadata": {
        "colab": {
          "base_uri": "https://localhost:8080/"
        },
        "id": "irBxzkm3oBhf",
        "outputId": "fdd0b30d-7af3-49d4-bbc5-aa4e277e2b99"
      },
      "execution_count": 168,
      "outputs": [
        {
          "output_type": "stream",
          "name": "stdout",
          "text": [
            "Factor Loadings:\n",
            "                        Factor1  Factor2  Factor3\n",
            "Age                       0.00     0.00    -0.00\n",
            "Attendance (%)            0.05     0.01     0.62\n",
            "Midterm_Score             0.83    -0.01     0.10\n",
            "Assignments_Avg           0.86    -0.01     0.10\n",
            "Quizzes_Avg               0.77    -0.01     0.09\n",
            "Participation_Score       0.70    -0.00    -0.06\n",
            "Projects_Score            0.85    -0.02     0.11\n",
            "Total_Marks               1.02    -0.02     0.09\n",
            "Study_Hours_per_Week      0.34     0.03    -0.03\n",
            "Stress_Level (1-10)       0.03     0.86     0.01\n",
            "Sleep_Hours_per_Night    -0.00    -0.25    -0.00\n",
            "\n",
            "Variance Explained (per factor):\n",
            " (array([4.41236397, 0.793965  , 0.43459112]), array([0.401124  , 0.07217864, 0.03950828]), array([0.401124  , 0.47330263, 0.51281092]))\n"
          ]
        }
      ]
    },
    {
      "cell_type": "code",
      "source": [
        "# Fit FactorAnalyzer with no rotation to get eigenvalues\n",
        "fa = FactorAnalyzer(rotation=None)\n",
        "fa.fit(df_numeric)\n",
        "\n",
        "# Get eigenvalues\n",
        "ev, v = fa.get_eigenvalues()\n",
        "\n",
        "# Make the scree plot\n",
        "plt.figure(figsize=(8, 5))\n",
        "plt.bar(range(1, len(ev)+1), ev, alpha=0.7, label='Eigenvalue (Bar)')\n",
        "plt.plot(range(1, len(ev)+1), ev, marker='o', color='red', label='Eigenvalue (Line)')\n",
        "plt.xlabel('Factor')\n",
        "plt.ylabel('Eigenvalue')\n",
        "plt.title('Scree Plot for Factor Analysis')\n",
        "plt.legend()\n",
        "plt.grid(True)\n",
        "plt.tight_layout()\n",
        "plt.show()"
      ],
      "metadata": {
        "colab": {
          "base_uri": "https://localhost:8080/",
          "height": 507
        },
        "id": "Dus17VNmoBfa",
        "outputId": "2b9d9653-4f45-4331-993c-05cc0680b1d9"
      },
      "execution_count": 169,
      "outputs": [
        {
          "output_type": "display_data",
          "data": {
            "text/plain": [
              "<Figure size 800x500 with 1 Axes>"
            ],
            "image/png": "[encoded data removed]"
          },
          "metadata": {}
        }
      ]
    }
  ]
}